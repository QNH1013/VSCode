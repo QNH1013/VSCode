{
 "cells": [
  {
   "cell_type": "code",
   "execution_count": 52,
   "metadata": {},
   "outputs": [
    {
     "name": "stdout",
     "output_type": "stream",
     "text": [
      "On 2021-11-19 Earth was 0.99 AU from Sun\n",
      "The Earths orbital velocity is: 30.12 Km/s\n"
     ]
    }
   ],
   "source": [
    "import spiceypy\n",
    "import datetime\n",
    "import math\n",
    "import numpy as np\n",
    "date_today = datetime.datetime.today()\n",
    "date_today = date_today.strftime(\"%Y-%m-%d\")\n",
    "spiceypy.furnsh(\"../kernels/lsk/naif0012.tls.txt\")\n",
    "spiceypy.furnsh(\"../kernels/spk/de432s.bsp\")\n",
    "spiceypy.furnsh(\"../kernels/spk/L2_de431.bsp\")\n",
    "et_time = spiceypy.utc2et(date_today) #compute UTC time as ephemeris time\n",
    "# earth_wrt_sun is the earth state value with an array size of 6\n",
    "earth_wrt_sun, earth_sun_suntime = spiceypy.spkgeo(targ = 399, et = et_time, ref = \"ECLIPJ2000\", obs =10)\n",
    "# the first 3 values represent the position of the earth wrt to the sin on the xyz coordinate system\n",
    "# the last 3 values represent the earth velocity on the above 3 axises\n",
    "earth_sun_distance = np.linalg.norm(earth_wrt_sun[:3])\n",
    "earth_sun_orbital_vel = np.linalg.norm(earth_wrt_sun[3:])\n",
    "earth_sun_au_distance = spiceypy.convrt(earth_sun_distance, \"km\", \"au\")\n",
    "print ('On', date_today, 'Earth was', round(earth_sun_au_distance, 2), 'AU from Sun')\n",
    "print ('The Earths orbital velocity is:',round(earth_sun_orbital_vel, 2),'Km/s')"
   ]
  }
 ],
 "metadata": {
  "interpreter": {
   "hash": "949777d72b0d2535278d3dc13498b2535136f6dfe0678499012e853ee9abcab1"
  },
  "kernelspec": {
   "display_name": "Python 3 (ipykernel)",
   "language": "python",
   "name": "python3"
  },
  "language_info": {
   "codemirror_mode": {
    "name": "ipython",
    "version": 3
   },
   "file_extension": ".py",
   "mimetype": "text/x-python",
   "name": "python",
   "nbconvert_exporter": "python",
   "pygments_lexer": "ipython3",
   "version": "3.9.9"
  },
  "orig_nbformat": 4
 },
 "nbformat": 4,
 "nbformat_minor": 2
}
