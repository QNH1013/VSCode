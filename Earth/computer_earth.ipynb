{
 "cells": [
  {
   "cell_type": "code",
   "execution_count": 9,
   "metadata": {},
   "outputs": [
    {
     "name": "stdout",
     "output_type": "stream",
     "text": [
      "0.82  AU Units\n"
     ]
    }
   ],
   "source": [
    "import spiceypy\n",
    "import datetime\n",
    "import math\n",
    "date_today = datetime.datetime.today()\n",
    "date_today = date_today.strftime(\"%Y-%m-%dT00:00:00\")\n",
    "spiceypy.furnsh(\"../kernels/lsk/naif0012.tls.txt\")\n",
    "spiceypy.furnsh(\"../kernels/spk/de432s.bsp\")\n",
    "et_time = spiceypy.utc2et(date_today)\n",
    "earth_wrt_sun, earth_sun_suntime = spiceypy.spkgeo(targ=399, et = et_time, ref = \"ECLIPJ2000\", obs = 10)\n",
    "earth_sun_distance = math.sqrt(earth_wrt_sun[0] * 2.00 + earth_wrt_sun[1] ** 2.00 + earth_wrt_sun [2] ** 2.00)\n",
    "earth_sun_au_distance = spiceypy.convrt(earth_sun_distance, \"km\", \"au\")\n",
    "print (round(earth_sun_au_distance, 2), ' AU Units')"
   ]
  }
 ],
 "metadata": {
  "interpreter": {
   "hash": "949777d72b0d2535278d3dc13498b2535136f6dfe0678499012e853ee9abcab1"
  },
  "kernelspec": {
   "display_name": "Python 3 (ipykernel)",
   "language": "python",
   "name": "python3"
  },
  "language_info": {
   "codemirror_mode": {
    "name": "ipython",
    "version": 3
   },
   "file_extension": ".py",
   "mimetype": "text/x-python",
   "name": "python",
   "nbconvert_exporter": "python",
   "pygments_lexer": "ipython3",
   "version": "3.9.9"
  },
  "orig_nbformat": 4
 },
 "nbformat": 4,
 "nbformat_minor": 2
}
